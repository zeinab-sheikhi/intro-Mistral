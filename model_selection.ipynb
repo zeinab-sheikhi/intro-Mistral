{
 "cells": [
  {
   "cell_type": "code",
   "execution_count": 1,
   "metadata": {},
   "outputs": [],
   "source": [
    "from helper import load_mistral_api_key"
   ]
  },
  {
   "cell_type": "code",
   "execution_count": 2,
   "metadata": {},
   "outputs": [],
   "source": [
    "api_key, dlai_endpoint = load_mistral_api_key(ret_key=True)"
   ]
  },
  {
   "cell_type": "code",
   "execution_count": 3,
   "metadata": {},
   "outputs": [],
   "source": [
    "from mistralai.client import MistralClient\n",
    "from mistralai.models.chat_completion import ChatMessage\n",
    "\n",
    "def mistral(user_message, model=\"mistral-small-latest\", is_json=False):\n",
    "    client = MistralClient(api_key=api_key)\n",
    "    messages = [ChatMessage(role=\"user\", content=user_message)]\n",
    "\n",
    "    if is_json:\n",
    "        chat_response = client.chat(\n",
    "            model=model, messages=messages, response_format={\"type\": \"json_object\"}\n",
    "        )\n",
    "    else:\n",
    "        chat_response = client.chat(model=model, messages=messages)\n",
    "\n",
    "    return chat_response.choices[0].message.content"
   ]
  },
  {
   "cell_type": "markdown",
   "metadata": {},
   "source": [
    "### Mistral small for simple tasks that one can do in bulk"
   ]
  },
  {
   "cell_type": "code",
   "execution_count": 4,
   "metadata": {},
   "outputs": [],
   "source": [
    "prompt = \"\"\"\n",
    "Classify the following email to determine if it is spam or not.\n",
    "Only respond with the exact text \"Spam\" or \"Not Spam\". \n",
    "\n",
    "# Email:\n",
    "🎉 Urgent! You've Won a $1,000,000 Cash Prize! \n",
    "💰 To claim your prize, please click on the link below: \n",
    "https://bit.ly/claim-your-prize\n",
    "\"\"\""
   ]
  },
  {
   "cell_type": "code",
   "execution_count": 5,
   "metadata": {},
   "outputs": [
    {
     "data": {
      "text/plain": [
       "'Spam'"
      ]
     },
     "execution_count": 5,
     "metadata": {},
     "output_type": "execute_result"
    }
   ],
   "source": [
    "mistral(user_message=prompt)"
   ]
  },
  {
   "cell_type": "markdown",
   "metadata": {},
   "source": [
    "### Mistral Medium"
   ]
  },
  {
   "cell_type": "code",
   "execution_count": 6,
   "metadata": {},
   "outputs": [],
   "source": [
    "prompt = \"\"\"\n",
    "Compose a welcome email for new customers who have just made \n",
    "their first purchase with your product. \n",
    "Start by expressing your gratitude for their business, \n",
    "and then convey your excitement for having them as a customer. \n",
    "Include relevant details about their recent order. \n",
    "Sign the email with \"The Fun Shop Team\".\n",
    "\n",
    "Order details:\n",
    "- Customer name: Anna\n",
    "- Product: hat \n",
    "- Estimate date of delivery: Feb. 25, 2024\n",
    "- Return policy: 30 days\n",
    "\"\"\""
   ]
  },
  {
   "cell_type": "code",
   "execution_count": 7,
   "metadata": {},
   "outputs": [],
   "source": [
    "response_medium = mistral(prompt, model=\"mistral-medium-latest\")"
   ]
  },
  {
   "cell_type": "code",
   "execution_count": 8,
   "metadata": {},
   "outputs": [
    {
     "name": "stdout",
     "output_type": "stream",
     "text": [
      "Subject: 🎉 Welcome to The Fun Shop, Anna! Thank you for your first purchase!\n",
      "\n",
      "Dear Anna,\n",
      "\n",
      "We are thrilled to welcome you to The Fun Shop family! We're beyond grateful that you've chosen to make your first purchase with us, and we can't wait for you to enjoy your new hat.\n",
      "\n",
      "We know that finding the perfect hat can be an exciting adventure, and we're confident that you'll love your new addition. Our team has carefully packed your order, ensuring it's in tip-top shape for your enjoyment.\n",
      "\n",
      "Here are the details of your recent order:\n",
      "\n",
      "Product: Hat\n",
      "Estimated Delivery Date: February 25, 2024\n",
      "\n",
      "We understand that sometimes things don't go as planned, so we want to remind you of our hassle-free return policy. If for any reason you're not completely satisfied with your hat, you have 30 days from the delivery date to return it. Our goal is to make sure you're 100% happy with your purchase.\n",
      "\n",
      "If you have any questions or need assistance, please don't hesitate to reach out to our friendly customer support team at support@thefunshop.com. We're always here to help!\n",
      "\n",
      "Once again, thank you for choosing The Fun Shop for your hat purchase. We're excited to have you as a customer and can't wait to see you rock your new look!\n",
      "\n",
      "Warm regards,\n",
      "\n",
      "The Fun Shop Team\n",
      "\n",
      "P.S. To stay updated on our latest products, promotions, and fun content, be sure to follow us on social media:\n",
      "\n",
      "Facebook: @TheFunShop\n",
      "Instagram: @TheFunShop\n",
      "Twitter: @TheFunShopOfficial\n",
      "\n",
      "Let the fun begin! 🎉🛍️💖\n"
     ]
    }
   ],
   "source": [
    "print(response_medium)"
   ]
  },
  {
   "cell_type": "markdown",
   "metadata": {},
   "source": [
    "### Mistral Large"
   ]
  },
  {
   "cell_type": "code",
   "execution_count": 9,
   "metadata": {},
   "outputs": [],
   "source": [
    "prompt = \"\"\"\n",
    "Calculate the difference in payment dates between the two \\\n",
    "customers whose payment amounts are closest to each other \\\n",
    "in the following dataset. Do not write code.\n",
    "\n",
    "# dataset: \n",
    "'{\n",
    "  \"transaction_id\":{\"0\":\"T1001\",\"1\":\"T1002\",\"2\":\"T1003\",\"3\":\"T1004\",\"4\":\"T1005\"},\n",
    "    \"customer_id\":{\"0\":\"C001\",\"1\":\"C002\",\"2\":\"C003\",\"3\":\"C002\",\"4\":\"C001\"},\n",
    "    \"payment_amount\":{\"0\":125.5,\"1\":89.99,\"2\":120.0,\"3\":54.3,\"4\":210.2},\n",
    "\"payment_date\":{\"0\":\"2021-10-05\",\"1\":\"2021-10-06\",\"2\":\"2021-10-07\",\"3\":\"2021-10-05\",\"4\":\"2021-10-08\"},\n",
    "    \"payment_status\":{\"0\":\"Paid\",\"1\":\"Unpaid\",\"2\":\"Paid\",\"3\":\"Paid\",\"4\":\"Pending\"}\n",
    "}'\n",
    "\"\"\""
   ]
  },
  {
   "cell_type": "code",
   "execution_count": 10,
   "metadata": {},
   "outputs": [],
   "source": [
    "response_large = mistral(prompt, model=\"mistral-large-latest\")"
   ]
  },
  {
   "cell_type": "code",
   "execution_count": 11,
   "metadata": {},
   "outputs": [
    {
     "name": "stdout",
     "output_type": "stream",
     "text": [
      "To solve this problem without writing code, we first need to identify the two payment amounts that are closest to each other. Looking at the dataset, the payment amounts are:\n",
      "\n",
      "1. 125.5 (T1001)\n",
      "2. 89.99 (T1002)\n",
      "3. 120.0 (T1003)\n",
      "4. 54.3 (T1004)\n",
      "5. 210.2 (T1005)\n",
      "\n",
      "The two amounts closest to each other are 125.5 and 120.0, with a difference of 5.5. The corresponding transaction IDs are T1001 and T1003.\n",
      "\n",
      "Now, let's find the payment dates for these transactions:\n",
      "\n",
      "1. T1001: 2021-10-05\n",
      "2. T1003: 2021-10-07\n",
      "\n",
      "To calculate the difference between the two dates, subtract the earlier date (2021-10-05) from the later date (2021-10-07). This results in a difference of 2 days.\n",
      "\n",
      "Thus, the difference in payment dates between the two customers whose payment amounts are closest to each other is 2 days.\n"
     ]
    }
   ],
   "source": [
    "print(response_large)"
   ]
  },
  {
   "cell_type": "markdown",
   "metadata": {},
   "source": [
    "### Expense reporting task"
   ]
  },
  {
   "cell_type": "code",
   "execution_count": 12,
   "metadata": {},
   "outputs": [],
   "source": [
    "transactions = \"\"\"\n",
    "McDonald's: 8.40\n",
    "Safeway: 10.30\n",
    "Carrefour: 15.00\n",
    "Toys R Us: 20.50\n",
    "Panda Express: 10.20\n",
    "Beanie Baby Outlet: 25.60\n",
    "World Food Wraps: 22.70\n",
    "Stuffed Animals Shop: 45.10\n",
    "Sanrio Store: 85.70\n",
    "\"\"\"\n",
    "\n",
    "prompt = f\"\"\"\n",
    "Given the purchase details, how much did I spend on each category:\n",
    "1) restaurants\n",
    "2) groceries\n",
    "3) stuffed animals and props\n",
    "{transactions}\n",
    "\"\"\""
   ]
  },
  {
   "cell_type": "code",
   "execution_count": 13,
   "metadata": {},
   "outputs": [
    {
     "name": "stdout",
     "output_type": "stream",
     "text": [
      "To calculate your spending in each category, we need to assign each purchase to a category based on the store name. Here's how I would categorize them:\n",
      "\n",
      "1) Restaurants: McDonald's, Panda Express, World Food Wraps\n",
      "2) Groceries: Safeway, Carrefour\n",
      "3) Stuffed animals and props: Toys R Us, Beanie Baby Outlet, Stuffed Animals Shop, Sanrio Store\n",
      "\n",
      "Now, let's add up the spending in each category:\n",
      "\n",
      "1) Restaurants: 8.40 (McDonald's) + 10.20 (Panda Express) + 22.70 (World Food Wraps) = 41.30\n",
      "2) Groceries: 10.30 (Safeway) + 15.00 (Carrefour) = 25.30\n",
      "3) Stuffed animals and props: 20.50 (Toys R Us) + 25.60 (Beanie Baby Outlet) + 45.10 (Stuffed Animals Shop) + 85.70 (Sanrio Store) = 176.90\n",
      "\n",
      "So, you spent 41.30 on restaurants, 25.30 on groceries, and 176.90 on stuffed animals and props.\n"
     ]
    }
   ],
   "source": [
    "response_small = mistral(prompt, model=\"mistral-small-latest\")\n",
    "print(response_small)"
   ]
  },
  {
   "cell_type": "code",
   "execution_count": 14,
   "metadata": {},
   "outputs": [
    {
     "name": "stdout",
     "output_type": "stream",
     "text": [
      "Sure, I can help you categorize your expenses. Here's how much you spent on each category:\n",
      "\n",
      "1) Restaurants:\n",
      "   - McDonald's: $8.40\n",
      "   - Panda Express: $10.20\n",
      "   - World Food Wraps: $22.70\n",
      "   Total for restaurants: $8.40 + $10.20 + $22.70 = $41.30\n",
      "\n",
      "2) Groceries:\n",
      "   - Safeway: $10.30\n",
      "   - Carrefour: $15.00\n",
      "   Total for groceries: $10.30 + $15.00 = $25.30\n",
      "\n",
      "3) Stuffed animals and props:\n",
      "   - Toys R Us: $20.50\n",
      "   - Beanie Baby Outlet: $25.60\n",
      "   - Stuffed Animals Shop: $45.10\n",
      "   - Sanrio Store: $85.70\n",
      "   Total for stuffed animals and props: $20.50 + $25.60 + $45.10 + $85.70 = $176.90\n",
      "\n",
      "So, you spent $41.30 on restaurants, $25.30 on groceries, and $176.90 on stuffed animals and props.\n"
     ]
    }
   ],
   "source": [
    "response_large = mistral(prompt, model=\"mistral-large-latest\")\n",
    "print(response_large)"
   ]
  },
  {
   "cell_type": "markdown",
   "metadata": {},
   "source": [
    "### Writing and checking code"
   ]
  },
  {
   "cell_type": "code",
   "execution_count": 15,
   "metadata": {},
   "outputs": [],
   "source": [
    "user_message = \"\"\"\n",
    "Given an array of integers nums and an integer target, return indices of the two numbers such that they add up to target.\n",
    "\n",
    "You may assume that each input would have exactly one solution, and you may not use the same element twice.\n",
    "\n",
    "You can return the answer in any order.\n",
    "\n",
    "Your code should pass these tests:\n",
    "\n",
    "assert twoSum([2,7,11,15], 9) == [0,1]\n",
    "assert twoSum([3,2,4], 6) == [1,2]\n",
    "assert twoSum([3,3], 6) == [0,1]\n",
    "\"\"\""
   ]
  },
  {
   "cell_type": "code",
   "execution_count": 16,
   "metadata": {},
   "outputs": [
    {
     "name": "stdout",
     "output_type": "stream",
     "text": [
      "Sure, I can help you with that. Here's a Python function that uses a dictionary to store the numbers we've seen so far and their indices. Then, for each number, we check if its complement (target - current number) is in the dictionary. If it is, we've found our two numbers and return their indices.\n",
      "\n",
      "```python\n",
      "def twoSum(nums, target):\n",
      "    num_dict = {}\n",
      "    for i, num in enumerate(nums):\n",
      "        if target - num in num_dict:\n",
      "            return [num_dict[target - num], i]\n",
      "        num_dict[num] = i\n",
      "```\n",
      "\n",
      "This function should pass the tests you provided. Let's verify that:\n",
      "\n",
      "```python\n",
      "assert twoSum([2,7,11,15], 9) == [0,1]\n",
      "assert twoSum([3,2,4], 6) == [1,2]\n",
      "assert twoSum([3,3], 6) == [0,1]\n",
      "```\n",
      "\n",
      "These assertions should not raise any errors, indicating that the function is working as expected.\n"
     ]
    }
   ],
   "source": [
    "print(mistral(user_message, model=\"mistral-large-latest\"))"
   ]
  },
  {
   "cell_type": "markdown",
   "metadata": {},
   "source": [
    "### Natively Fluent in English, French, Spanish, German, and Italian"
   ]
  },
  {
   "cell_type": "code",
   "execution_count": 17,
   "metadata": {},
   "outputs": [],
   "source": [
    "user_message = \"\"\"\n",
    "Lequel est le plus lourd une livre de fer ou un kilogramme de plume\n",
    "\"\"\""
   ]
  },
  {
   "cell_type": "code",
   "execution_count": 18,
   "metadata": {},
   "outputs": [
    {
     "name": "stdout",
     "output_type": "stream",
     "text": [
      "Un kilogramme de plumes est plus lourd qu'une livre de fer.\n",
      "\n",
      "Voici pourquoi : Une livre (lb) est une unité de mesure de masse principalement utilisée aux États-Unis et dans d'autres systèmes de mesure impériaux, tandis qu'un kilogramme (kg) est l'unité de masse de base du Système international d'unités (SI).\n",
      "\n",
      "1 livre est égale à environ 0,453592 kilogrammes. Ainsi, une livre de fer pèse moins qu'un kilogramme de plumes. Même si les plumes sont légères individuellement, vous auriez besoin d'environ 2,20462 livres de plumes pour obtenir un kilogramme.\n"
     ]
    }
   ],
   "source": [
    "print(mistral(user_message, model=\"mistral-large-latest\"))"
   ]
  }
 ],
 "metadata": {
  "kernelspec": {
   "display_name": "mistral",
   "language": "python",
   "name": "python3"
  },
  "language_info": {
   "codemirror_mode": {
    "name": "ipython",
    "version": 3
   },
   "file_extension": ".py",
   "mimetype": "text/x-python",
   "name": "python",
   "nbconvert_exporter": "python",
   "pygments_lexer": "ipython3",
   "version": "3.12.2"
  }
 },
 "nbformat": 4,
 "nbformat_minor": 2
}
