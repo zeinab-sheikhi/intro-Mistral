{
 "cells": [
  {
   "cell_type": "code",
   "execution_count": 1,
   "metadata": {},
   "outputs": [],
   "source": [
    "from helper import load_mistral_api_key"
   ]
  },
  {
   "cell_type": "code",
   "execution_count": 3,
   "metadata": {},
   "outputs": [],
   "source": [
    "api_key, dlai_endpoint = load_mistral_api_key(ret_key=True)"
   ]
  },
  {
   "cell_type": "code",
   "execution_count": 8,
   "metadata": {},
   "outputs": [],
   "source": [
    "from mistralai.client import MistralClient\n",
    "from mistralai.models.chat_completion import ChatMessage\n",
    "\n",
    "def mistral(user_message, model=\"mistral-small-latest\", is_json=False):\n",
    "    client = MistralClient(api_key=api_key)\n",
    "    messages = [ChatMessage(role=\"user\", content=user_message)]\n",
    "\n",
    "    if is_json:\n",
    "        chat_response = client.chat(\n",
    "            model=model, messages=messages, response_format={\"type\": \"json_object\"}\n",
    "        )\n",
    "    else:\n",
    "        chat_response = client.chat(model=model, messages=messages)\n",
    "\n",
    "    return chat_response.choices[0].message.content"
   ]
  },
  {
   "cell_type": "markdown",
   "metadata": {},
   "source": [
    "### Mistral small for simple tasks that one can do in bulk"
   ]
  },
  {
   "cell_type": "code",
   "execution_count": 9,
   "metadata": {},
   "outputs": [],
   "source": [
    "prompt = \"\"\"\n",
    "Classify the following email to determine if it is spam or not.\n",
    "Only respond with the exact text \"Spam\" or \"Not Spam\". \n",
    "\n",
    "# Email:\n",
    "🎉 Urgent! You've Won a $1,000,000 Cash Prize! \n",
    "💰 To claim your prize, please click on the link below: \n",
    "https://bit.ly/claim-your-prize\n",
    "\"\"\""
   ]
  },
  {
   "cell_type": "code",
   "execution_count": 10,
   "metadata": {},
   "outputs": [
    {
     "data": {
      "text/plain": [
       "'Spam'"
      ]
     },
     "execution_count": 10,
     "metadata": {},
     "output_type": "execute_result"
    }
   ],
   "source": [
    "mistral(user_message=prompt)"
   ]
  },
  {
   "cell_type": "markdown",
   "metadata": {},
   "source": [
    "### Mistral Medium: Intermediate tasks that require language transformation"
   ]
  },
  {
   "cell_type": "code",
   "execution_count": 11,
   "metadata": {},
   "outputs": [],
   "source": [
    "prompt = \"\"\"\n",
    "Compose a welcome email for new customers who have just made \n",
    "their first purchase with your product. \n",
    "Start by expressing your gratitude for their business, \n",
    "and then convey your excitement for having them as a customer. \n",
    "Include relevant details about their recent order. \n",
    "Sign the email with \"The Fun Shop Team\".\n",
    "\n",
    "Order details:\n",
    "- Customer name: Anna\n",
    "- Product: hat \n",
    "- Estimate date of delivery: Feb. 25, 2024\n",
    "- Return policy: 30 days\n",
    "\"\"\""
   ]
  },
  {
   "cell_type": "code",
   "execution_count": 12,
   "metadata": {},
   "outputs": [],
   "source": [
    "response_medium = mistral(prompt, model=\"mistral-medium-latest\")"
   ]
  },
  {
   "cell_type": "code",
   "execution_count": 13,
   "metadata": {},
   "outputs": [
    {
     "name": "stdout",
     "output_type": "stream",
     "text": [
      "Subject: Welcome to The Fun Shop, Anna! Your New Hat is on the Way 🎩\n",
      "\n",
      "Dear Anna,\n",
      "\n",
      "We're absolutely thrilled to have you as a new customer at The Fun Shop! We want to extend our heartfelt gratitude for choosing us as your go-to destination for fun and exciting products.\n",
      "\n",
      "We hope you're as excited as we are about your first order with us! Your brand new stylish hat is on its way to becoming a fabulous addition to your wardrobe. Our team has diligently packaged your hat and handed it off to our reliable delivery partners. You can expect to receive your order by February 25, 2024.\n",
      "\n",
      "In the meantime, please don't hesitate to reach out to us if you have any questions or concerns about your order. Our dedicated customer support team is eager to help you with any inquiries.\n",
      "\n",
      "We also want to remind you of our 30-day return policy. If for any reason you're not completely satisfied with your new hat, you can return it within 30 days of receiving it for a full refund or exchange. We believe in providing an exceptional shopping experience, and your satisfaction is our top priority.\n",
      "\n",
      "Once again, thank you for choosing The Fun Shop for your shopping needs. We're delighted to have you join our community, and we look forward to serving you with more fun and unique products in the future.\n",
      "\n",
      "Best regards,\n",
      "\n",
      "The Fun Shop Team 🥳\n",
      "\n",
      "P.S. Keep an eye on your inbox for exclusive offers, new arrivals, and fun content from The Fun Shop!\n"
     ]
    }
   ],
   "source": [
    "print(response_medium)"
   ]
  },
  {
   "cell_type": "markdown",
   "metadata": {},
   "source": [
    "### Mistral Large: Complex tasks that require advanced reasoning capabilities or are highly specialized"
   ]
  },
  {
   "cell_type": "code",
   "execution_count": 14,
   "metadata": {},
   "outputs": [],
   "source": [
    "prompt = \"\"\"\n",
    "Calculate the difference in payment dates between the two \\\n",
    "customers whose payment amounts are closest to each other \\\n",
    "in the following dataset. Do not write code.\n",
    "\n",
    "# dataset: \n",
    "'{\n",
    "  \"transaction_id\":{\"0\":\"T1001\",\"1\":\"T1002\",\"2\":\"T1003\",\"3\":\"T1004\",\"4\":\"T1005\"},\n",
    "    \"customer_id\":{\"0\":\"C001\",\"1\":\"C002\",\"2\":\"C003\",\"3\":\"C002\",\"4\":\"C001\"},\n",
    "    \"payment_amount\":{\"0\":125.5,\"1\":89.99,\"2\":120.0,\"3\":54.3,\"4\":210.2},\n",
    "\"payment_date\":{\"0\":\"2021-10-05\",\"1\":\"2021-10-06\",\"2\":\"2021-10-07\",\"3\":\"2021-10-05\",\"4\":\"2021-10-08\"},\n",
    "    \"payment_status\":{\"0\":\"Paid\",\"1\":\"Unpaid\",\"2\":\"Paid\",\"3\":\"Paid\",\"4\":\"Pending\"}\n",
    "}'\n",
    "\"\"\""
   ]
  },
  {
   "cell_type": "code",
   "execution_count": 15,
   "metadata": {},
   "outputs": [],
   "source": [
    "response_small = mistral(prompt, model=\"mistral-small-latest\")"
   ]
  },
  {
   "cell_type": "code",
   "execution_count": 16,
   "metadata": {},
   "outputs": [
    {
     "name": "stdout",
     "output_type": "stream",
     "text": [
      "To solve this problem, we first need to identify the two customers whose payment amounts are closest to each other. In this dataset, the payment amounts of C001 ($125.5) and C002 ($89.99) are the closest.\n",
      "\n",
      "Next, we need to find the payment dates for these two customers. C001 made a payment on 2021-10-05 and 2021-10-08, while C002 made a payment on 2021-10-06 and 2021-10-05.\n",
      "\n",
      "Since we are looking for the difference in payment dates between the two customers, we need to compare the dates for each customer, not just the earliest or latest dates. The difference between C001's first payment date (2021-10-05) and C002's first payment date (2021-10-06) is 1 day. The difference between C001's second payment date (2021-10-08) and C002's second payment date (2021-10-05) is 3 days.\n",
      "\n",
      "Therefore, the difference in payment dates between the two customers whose payment amounts are closest to each other is 1 day or 3 days, depending on which pair of dates we consider.\n"
     ]
    }
   ],
   "source": [
    "print(response_small)"
   ]
  },
  {
   "cell_type": "code",
   "execution_count": 17,
   "metadata": {},
   "outputs": [],
   "source": [
    "response_large = mistral(prompt, model=\"mistral-large-latest\")"
   ]
  },
  {
   "cell_type": "code",
   "execution_count": 18,
   "metadata": {},
   "outputs": [
    {
     "name": "stdout",
     "output_type": "stream",
     "text": [
      "To solve this problem without writing code, we first need to identify the two payment amounts that are closest to each other. Looking at the \"payment_amount\" data, we have the following amounts:\n",
      "\n",
      "1. $125.50 (T1001)\n",
      "2. $89.99 (T1002)\n",
      "3. $120.00 (T1003)\n",
      "4. $54.30 (T1004)\n",
      "5. $210.20 (T1005)\n",
      "\n",
      "The two closest payment amounts are $125.50 and $120.00, with a difference of $5.50. The transactions associated with these payments are T1001 and T1003.\n",
      "\n",
      "Now let's find the payment dates for these transactions from the \"payment_date\" data:\n",
      "\n",
      "1. T1001: 2021-10-05\n",
      "2. T1003: 2021-10-07\n",
      "\n",
      "To calculate the difference in payment dates, subtract the earlier date from the later date:\n",
      "\n",
      "2021-10-07 - 2021-10-05 = 2 days\n",
      "\n",
      "So the difference in payment dates between the two customers whose payment amounts are closest to each other is 2 days.\n"
     ]
    }
   ],
   "source": [
    "print(response_large)"
   ]
  },
  {
   "cell_type": "markdown",
   "metadata": {},
   "source": [
    "#### Expense reporting task"
   ]
  },
  {
   "cell_type": "code",
   "execution_count": 19,
   "metadata": {},
   "outputs": [],
   "source": [
    "transactions = \"\"\"\n",
    "McDonald's: 8.40\n",
    "Safeway: 10.30\n",
    "Carrefour: 15.00\n",
    "Toys R Us: 20.50\n",
    "Panda Express: 10.20\n",
    "Beanie Baby Outlet: 25.60\n",
    "World Food Wraps: 22.70\n",
    "Stuffed Animals Shop: 45.10\n",
    "Sanrio Store: 85.70\n",
    "\"\"\"\n",
    "\n",
    "prompt = f\"\"\"\n",
    "Given the purchase details, how much did I spend on each category:\n",
    "1) restaurants\n",
    "2) groceries\n",
    "3) stuffed animals and props\n",
    "{transactions}\n",
    "\"\"\""
   ]
  },
  {
   "cell_type": "code",
   "execution_count": 20,
   "metadata": {},
   "outputs": [
    {
     "name": "stdout",
     "output_type": "stream",
     "text": [
      "To categorize your expenses, I've made the following assumptions:\n",
      "1) restaurants: McDonald's and Panda Express\n",
      "2) groceries: Safeway, Carrefour, and World Food Wraps\n",
      "3) stuffed animals and props: Toys R Us, Beanie Baby Outlet, Stuffed Animals Shop, and Sanrio Store\n",
      "\n",
      "Here's the breakdown of your expenses by category:\n",
      "\n",
      "1) restaurants:\n",
      "   - McDonald's: 8.40\n",
      "   - Panda Express: 10.20\n",
      "   Total: $18.60\n",
      "\n",
      "2) groceries:\n",
      "   - Safeway: 10.30\n",
      "   - Carrefour: 15.00\n",
      "   - World Food Wraps: 22.70\n",
      "   Total: $48.00\n",
      "\n",
      "3) stuffed animals and props:\n",
      "   - Toys R Us: 20.50\n",
      "   - Beanie Baby Outlet: 25.60\n",
      "   - Stuffed Animals Shop: 45.10\n",
      "   - Sanrio Store: 85.70\n",
      "   Total: $176.90\n"
     ]
    }
   ],
   "source": [
    "response_small = mistral(prompt, model=\"mistral-small-latest\")\n",
    "print(response_small)"
   ]
  },
  {
   "cell_type": "code",
   "execution_count": 21,
   "metadata": {},
   "outputs": [
    {
     "name": "stdout",
     "output_type": "stream",
     "text": [
      "Sure, I can help you categorize your expenses. Here's the breakdown:\n",
      "\n",
      "1) Restaurants:\n",
      "   - McDonald's: $8.40\n",
      "   - Panda Express: $10.20\n",
      "   - World Food Wraps: $22.70\n",
      "   - Total for restaurants: $41.30\n",
      "\n",
      "2) Groceries:\n",
      "   - Safeway: $10.30\n",
      "   - Carrefour: $15.00\n",
      "   - Total for groceries: $25.30\n",
      "\n",
      "3) Stuffed animals and props:\n",
      "   - Toys R Us: $20.50\n",
      "   - Beanie Baby Outlet: $25.60\n",
      "   - Stuffed Animals Shop: $45.10\n",
      "   - Sanrio Store: $85.70\n",
      "   - Total for stuffed animals and props: $176.90\n"
     ]
    }
   ],
   "source": [
    "response_large = mistral(prompt, model=\"mistral-large-latest\")\n",
    "print(response_large)"
   ]
  },
  {
   "cell_type": "markdown",
   "metadata": {},
   "source": [
    "#### Writing and checking code"
   ]
  },
  {
   "cell_type": "code",
   "execution_count": 22,
   "metadata": {},
   "outputs": [],
   "source": [
    "user_message = \"\"\"\n",
    "Given an array of integers nums and an integer target, return indices of the two numbers such that they add up to target.\n",
    "\n",
    "You may assume that each input would have exactly one solution, and you may not use the same element twice.\n",
    "\n",
    "You can return the answer in any order.\n",
    "\n",
    "Your code should pass these tests:\n",
    "\n",
    "assert twoSum([2,7,11,15], 9) == [0,1]\n",
    "assert twoSum([3,2,4], 6) == [1,2]\n",
    "assert twoSum([3,3], 6) == [0,1]\n",
    "\"\"\""
   ]
  },
  {
   "cell_type": "code",
   "execution_count": 23,
   "metadata": {},
   "outputs": [
    {
     "name": "stdout",
     "output_type": "stream",
     "text": [
      "Here is one possible solution using a dictionary to store the previously seen numbers and their indices:\n",
      "```\n",
      "def twoSum(nums, target):\n",
      "    # Create an empty dictionary to store the previously seen numbers and their indices\n",
      "    prev_map = {}\n",
      "\n",
      "    # Iterate through the array of numbers\n",
      "    for i, num in enumerate(nums):\n",
      "        # Check if the current number's complement (target - num) is in the dictionary\n",
      "        if target - num in prev_map:\n",
      "            # If it is, return the indices of the current number and its complement\n",
      "            return [prev_map[target - num], i]\n",
      "        else:\n",
      "            # If it's not, add the current number and its index to the dictionary\n",
      "            prev_map[num] = i\n",
      "```\n",
      "This solution has a time complexity of O(n) and a space complexity of O(n), where n is the length of the input array.\n",
      "\n",
      "It should pass the test cases you provided:\n",
      "```\n",
      "assert twoSum([2,7,11,15], 9) == [0,1]\n",
      "assert twoSum([3,2,4], 6) == [1,2]\n",
      "assert twoSum([3,3], 6) == [0,1]\n",
      "```\n"
     ]
    }
   ],
   "source": [
    "print(mistral(user_message, model=\"mistral-large-latest\"))"
   ]
  },
  {
   "cell_type": "code",
   "execution_count": null,
   "metadata": {},
   "outputs": [],
   "source": []
  }
 ],
 "metadata": {
  "kernelspec": {
   "display_name": "mistral",
   "language": "python",
   "name": "python3"
  },
  "language_info": {
   "codemirror_mode": {
    "name": "ipython",
    "version": 3
   },
   "file_extension": ".py",
   "mimetype": "text/x-python",
   "name": "python",
   "nbconvert_exporter": "python",
   "pygments_lexer": "ipython3",
   "version": "3.12.2"
  }
 },
 "nbformat": 4,
 "nbformat_minor": 2
}
